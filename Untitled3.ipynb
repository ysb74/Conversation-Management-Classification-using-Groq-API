{
  "nbformat": 4,
  "nbformat_minor": 0,
  "metadata": {
    "colab": {
      "provenance": []
    },
    "kernelspec": {
      "name": "python3",
      "display_name": "Python 3"
    },
    "language_info": {
      "name": "python"
    }
  },
  "cells": [
    {
      "cell_type": "code",
      "execution_count": 2,
      "metadata": {
        "colab": {
          "base_uri": "https://localhost:8080/"
        },
        "id": "dEJ0vR87kvhH",
        "outputId": "b8aab388-740d-4378-c49e-93017e43dd68"
      },
      "outputs": [
        {
          "output_type": "stream",
          "name": "stdout",
          "text": [
            "✅ Libraries installed.\n"
          ]
        }
      ],
      "source": [
        "#@title Install required libraries\n",
        "!pip install groq openai -q\n",
        "\n",
        "import os\n",
        "import json\n",
        "from openai import OpenAI\n",
        "from google.colab import userdata\n",
        "\n",
        "print(\"✅ Libraries installed.\")"
      ]
    },
    {
      "cell_type": "code",
      "source": [
        "#@title Configure Groq API Client\n",
        "# --- IMPORTANT ---\n",
        "# Please add your Groq API key to the Colab Secrets Manager.\n",
        "# Name: GROQ_API_KEY\n",
        "# Value: your_gq-xxxxxxxx_key\n",
        "\n",
        "try:\n",
        "    GROQ_API_KEY = userdata.get('GROQ_API_KEY')\n",
        "    client = OpenAI(\n",
        "        api_key=GROQ_API_KEY,\n",
        "        base_url=\"https://api.groq.com/openai/v1\",\n",
        "    )\n",
        "    print(\"✅ Groq client configured successfully.\")\n",
        "except Exception as e:\n",
        "    print(\"🚨 Error configuring Groq client.\")\n",
        "    print(\"Please ensure your GROQ_API_KEY is set correctly in Colab Secrets.\")"
      ],
      "metadata": {
        "colab": {
          "base_uri": "https://localhost:8080/"
        },
        "id": "ErhGzIr2lWPX",
        "outputId": "3a8b888c-a24c-498b-9e8a-856aa39911a2"
      },
      "execution_count": 3,
      "outputs": [
        {
          "output_type": "stream",
          "name": "stdout",
          "text": [
            "✅ Groq client configured successfully.\n"
          ]
        }
      ]
    },
    {
      "cell_type": "code",
      "source": [
        "#@title Helper Function: Summarization\n",
        "def summarize_conversation(history: list[dict]) -> str:\n",
        "    \"\"\"Calls the Groq API to summarize the conversation history.\"\"\"\n",
        "    if not history:\n",
        "        return \"No conversation to summarize.\"\n",
        "\n",
        "    # Format the history for the prompt\n",
        "    conversation_text = \"\\n\".join(f\"{msg['role']}: {msg['content']}\" for msg in history)\n",
        "\n",
        "    prompt = (\n",
        "        \"You are a helpful assistant. Summarize the following conversation into a \"\n",
        "        \"concise paragraph. This summary will be used as a memory for a chatbot. \"\n",
        "        \"Capture the key topics, user needs, and any resolutions.\"\n",
        "    )\n",
        "\n",
        "    try:\n",
        "        response = client.chat.completions.create(\n",
        "            model=\"llama-3.3-70b-versatile\",\n",
        "            messages=[\n",
        "                {\"role\": \"system\", \"content\": prompt},\n",
        "                {\"role\": \"user\", \"content\": conversation_text}\n",
        "            ],\n",
        "            temperature=0.2,\n",
        "        )\n",
        "        return response.choices[0].message.content\n",
        "    except Exception as e:\n",
        "        return f\"Error during summarization: {e}\"\n",
        "\n"
      ],
      "metadata": {
        "id": "6YCZjBBtmpVB"
      },
      "execution_count": 19,
      "outputs": []
    },
    {
      "cell_type": "code",
      "source": [
        "#@title Helper Function: Truncation\n",
        "def truncate_history(history: list[dict], method: str, limit: int) -> list[dict]:\n",
        "\n",
        "    if method == 'turns':\n",
        "        if len(history) <= limit:\n",
        "            return history\n",
        "        return history[-limit:] # Keep the last 'limit' messages\n",
        "    elif method == 'length':\n",
        "        current_length = 0\n",
        "        truncated_history = []\n",
        "        for message in reversed(history):\n",
        "            current_length += len(message['content'])\n",
        "            if current_length > limit:\n",
        "                break\n",
        "            truncated_history.insert(0, message)\n",
        "        return truncated_history\n",
        "    else:\n",
        "        raise ValueError(\"Invalid truncation method. Use 'turns' or 'length'.\")"
      ],
      "metadata": {
        "id": "Q1wOvfEum_5N"
      },
      "execution_count": 20,
      "outputs": []
    },
    {
      "cell_type": "code",
      "source": [
        "#@title The ConversationManager Class\n",
        "class ConversationManager:\n",
        "    \"\"\"\n",
        "    Manages a conversation, including history and periodic summarization.\n",
        "    \"\"\"\n",
        "    def __init__(self, k_turns_for_summary: int = 3):\n",
        "        self.history = [\n",
        "            {\"role\": \"system\", \"content\": \"You are a helpful assistant.\"}\n",
        "        ]\n",
        "        self.k = k_turns_for_summary\n",
        "        self.user_turn_count = 0\n",
        "\n",
        "    def add_message(self, role: str, content: str):\n",
        "        \"\"\"Adds a message and triggers summarization if k-th turn is reached.\"\"\"\n",
        "        self.history.append({\"role\": role, \"content\": content})\n",
        "\n",
        "        if role == 'user':\n",
        "            self.user_turn_count += 1\n",
        "            if self.user_turn_count > 0 and self.user_turn_count % self.k == 0:\n",
        "                print(f\"\\n🤖 --- Reached {self.user_turn_count} user turns. Performing periodic summarization... ---\")\n",
        "                summary = summarize_conversation(self.history)\n",
        "                # Replace history with a new system prompt and the summary\n",
        "                self.history = [\n",
        "                    {\"role\": \"system\", \"content\": \"This is a summary of the previous conversation.\"},\n",
        "                    {\"role\": \"assistant\", \"content\": summary}\n",
        "                ]\n",
        "                print(\"✅ History has been summarized.\")\n",
        "\n",
        "    def display_history(self):\n",
        "        \"\"\"Prints the current conversation history in a readable format.\"\"\"\n",
        "        print(\"\\n--- Current Conversation History ---\")\n",
        "        for msg in self.history:\n",
        "            print(f\"[{msg['role'].upper()}]: {msg['content']}\")\n",
        "        print(\"------------------------------------\\n\")"
      ],
      "metadata": {
        "id": "6417AHEZnJx5"
      },
      "execution_count": 21,
      "outputs": []
    },
    {
      "cell_type": "code",
      "source": [
        "#@title Demonstration: Periodic Summarization (k=3)\n",
        "\n",
        "# Initialize the manager to summarize after every 3rd user message.\n",
        "convo_manager = ConversationManager(k_turns_for_summary=3)\n",
        "convo_manager.display_history()\n",
        "\n",
        "# --- Conversation Turn 1 ---\n",
        "convo_manager.add_message(\"user\", \"Hi, I need help with my internet connection. It's very slow.\")\n",
        "convo_manager.add_message(\"assistant\", \"I can help with that. Have you tried restarting your router?\")\n",
        "convo_manager.display_history()\n",
        "\n",
        "# --- Conversation Turn 2 ---\n",
        "convo_manager.add_message(\"user\", \"Yes, I did. It didn't help. Can you check from your end?\")\n",
        "convo_manager.add_message(\"assistant\", \"Of course. I am running diagnostics now. It seems there's an outage in your area.\")\n",
        "convo_manager.display_history()\n",
        "\n",
        "# --- Conversation Turn 3 (Triggers Summarization) ---\n",
        "print(\"🗣️ Adding the 3rd user message, which will trigger summarization...\")\n",
        "convo_manager.add_message(\"user\", \"Oh, an outage? Do you have an ETA for when it will be fixed?\")\n",
        "convo_manager.add_message(\"assistant\", \"We expect services to be restored in the next 2-3 hours. I'll set up a notification for you.\")\n",
        "convo_manager.display_history()\n",
        "\n",
        "# --- Conversation Turn 4 (Starts with summarized history) ---\n",
        "convo_manager.add_message(\"user\", \"Okay, please do. Thanks for the help.\")\n",
        "convo_manager.display_history()"
      ],
      "metadata": {
        "colab": {
          "base_uri": "https://localhost:8080/"
        },
        "id": "Gr-T0-ljnVLS",
        "outputId": "21d333a2-9330-4c91-df04-a7ac01f52b96"
      },
      "execution_count": 22,
      "outputs": [
        {
          "output_type": "stream",
          "name": "stdout",
          "text": [
            "\n",
            "--- Current Conversation History ---\n",
            "[SYSTEM]: You are a helpful assistant.\n",
            "------------------------------------\n",
            "\n",
            "\n",
            "--- Current Conversation History ---\n",
            "[SYSTEM]: You are a helpful assistant.\n",
            "[USER]: Hi, I need help with my internet connection. It's very slow.\n",
            "[ASSISTANT]: I can help with that. Have you tried restarting your router?\n",
            "------------------------------------\n",
            "\n",
            "\n",
            "--- Current Conversation History ---\n",
            "[SYSTEM]: You are a helpful assistant.\n",
            "[USER]: Hi, I need help with my internet connection. It's very slow.\n",
            "[ASSISTANT]: I can help with that. Have you tried restarting your router?\n",
            "[USER]: Yes, I did. It didn't help. Can you check from your end?\n",
            "[ASSISTANT]: Of course. I am running diagnostics now. It seems there's an outage in your area.\n",
            "------------------------------------\n",
            "\n",
            "🗣️ Adding the 3rd user message, which will trigger summarization...\n",
            "\n",
            "🤖 --- Reached 3 user turns. Performing periodic summarization... ---\n",
            "✅ History has been summarized.\n",
            "\n",
            "--- Current Conversation History ---\n",
            "[SYSTEM]: This is a summary of the previous conversation.\n",
            "[ASSISTANT]: A user reported a slow internet connection and sought assistance. The user had already tried restarting their router, but the issue persisted. The assistant ran diagnostics and discovered an outage in the user's area. The user is now awaiting an estimated time of arrival (ETA) for when the outage will be resolved, which the assistant has not yet provided. The key need is for the user to have their internet connection restored to a satisfactory speed.\n",
            "[ASSISTANT]: We expect services to be restored in the next 2-3 hours. I'll set up a notification for you.\n",
            "------------------------------------\n",
            "\n",
            "\n",
            "--- Current Conversation History ---\n",
            "[SYSTEM]: This is a summary of the previous conversation.\n",
            "[ASSISTANT]: A user reported a slow internet connection and sought assistance. The user had already tried restarting their router, but the issue persisted. The assistant ran diagnostics and discovered an outage in the user's area. The user is now awaiting an estimated time of arrival (ETA) for when the outage will be resolved, which the assistant has not yet provided. The key need is for the user to have their internet connection restored to a satisfactory speed.\n",
            "[ASSISTANT]: We expect services to be restored in the next 2-3 hours. I'll set up a notification for you.\n",
            "[USER]: Okay, please do. Thanks for the help.\n",
            "------------------------------------\n",
            "\n"
          ]
        }
      ]
    },
    {
      "cell_type": "code",
      "source": [
        "#@title Demonstration: Truncation Options\n",
        "\n",
        "# Create a longer sample history for demonstration\n",
        "long_history = [\n",
        "    {\"role\": \"system\", \"content\": \"You are a helpful assistant.\"},\n",
        "    {\"role\": \"user\", \"content\": \"What's the weather like today?\"},\n",
        "    {\"role\": \"assistant\", \"content\": \"It's sunny with a high of 25°C.\"},\n",
        "    {\"role\": \"user\", \"content\": \"Great. Can you also book me a flight to Paris for next week?\"},\n",
        "    {\"role\": \"assistant\", \"content\": \"Certainly. Which dates and airline would you prefer?\"},\n",
        "    {\"role\": \"user\", \"content\": \"Let's do the 15th to the 22nd on Air France.\"},\n",
        "    {\"role\": \"assistant\", \"content\": \"Booking is confirmed. Your e-tickets will be sent to your email.\"}\n",
        "]\n",
        "\n",
        "print(f\"Original history has {len(long_history)} messages.\")\n",
        "\n",
        "# a) Truncate by number of turns (last 4 messages)\n",
        "truncated_by_turns = truncate_history(long_history, method='turns', limit=4)\n",
        "print(f\"\\n--- Truncated by Turns (last 4) ---\")\n",
        "for msg in truncated_by_turns:\n",
        "    print(f\"[{msg['role'].upper()}]: {msg['content']}\")\n",
        "\n",
        "# b) Truncate by character length (last 200 characters)\n",
        "truncated_by_length = truncate_history(long_history, method='length', limit=200)\n",
        "print(f\"\\n--- Truncated by Length (approx. last 200 chars) ---\")\n",
        "for msg in truncated_by_length:\n",
        "    print(f\"[{msg['role'].upper()}]: {msg['content']}\")"
      ],
      "metadata": {
        "colab": {
          "base_uri": "https://localhost:8080/"
        },
        "id": "CpKZ3CZ8ndGr",
        "outputId": "35cd38c6-eea6-4eb3-e27a-32dbed36e811"
      },
      "execution_count": 23,
      "outputs": [
        {
          "output_type": "stream",
          "name": "stdout",
          "text": [
            "Original history has 7 messages.\n",
            "\n",
            "--- Truncated by Turns (last 4) ---\n",
            "[USER]: Great. Can you also book me a flight to Paris for next week?\n",
            "[ASSISTANT]: Certainly. Which dates and airline would you prefer?\n",
            "[USER]: Let's do the 15th to the 22nd on Air France.\n",
            "[ASSISTANT]: Booking is confirmed. Your e-tickets will be sent to your email.\n",
            "\n",
            "--- Truncated by Length (approx. last 200 chars) ---\n",
            "[ASSISTANT]: Certainly. Which dates and airline would you prefer?\n",
            "[USER]: Let's do the 15th to the 22nd on Air France.\n",
            "[ASSISTANT]: Booking is confirmed. Your e-tickets will be sent to your email.\n"
          ]
        }
      ]
    },
    {
      "cell_type": "code",
      "source": [
        "#@title Define the JSON Schema and Tool for Information Extraction\n",
        "\n",
        "# This schema describes the function and the parameters it accepts.\n",
        "# The model will generate a JSON object matching these parameters.\n",
        "user_details_tool = [\n",
        "    {\n",
        "        \"type\": \"function\",\n",
        "        \"function\": {\n",
        "            \"name\": \"extract_user_info\",\n",
        "            \"description\": \"Extracts user information from a chat message.\",\n",
        "            \"parameters\": {\n",
        "                \"type\": \"object\",\n",
        "                \"properties\": {\n",
        "                    \"name\": {\n",
        "                        \"type\": \"string\",\n",
        "                        \"description\": \"The full name of the user.\"\n",
        "                    },\n",
        "                    \"email\": {\n",
        "                        \"type\": \"string\",\n",
        "                        \"description\": \"The email address of the user.\"\n",
        "                    },\n",
        "                    \"phone\": {\n",
        "                        \"type\": \"string\",\n",
        "                        \"description\": \"The phone number of the user.\"\n",
        "                    },\n",
        "                    \"location\": {\n",
        "                        \"type\": \"string\",\n",
        "                        \"description\": \"The city or address of the user.\"\n",
        "                    },\n",
        "                    \"age\": {\n",
        "                        \"type\": \"integer\",\n",
        "                        \"description\": \"The age of the user.\"\n",
        "                    }\n",
        "                },\n",
        "                \"required\": [\"name\", \"email\"]\n",
        "            }\n",
        "        }\n",
        "    }\n",
        "]\n",
        "\n",
        "print(\"✅ JSON schema and tool definition created.\")"
      ],
      "metadata": {
        "colab": {
          "base_uri": "https://localhost:8080/"
        },
        "id": "Z1bzsz_qrEj6",
        "outputId": "0f42e45b-153e-4470-f0a5-a960e3c5da59"
      },
      "execution_count": 12,
      "outputs": [
        {
          "output_type": "stream",
          "name": "stdout",
          "text": [
            "✅ JSON schema and tool definition created.\n"
          ]
        }
      ]
    },
    {
      "cell_type": "code",
      "source": [
        "#@title Function for JSON Extraction\n",
        "def extract_user_details(chat_message: str, tools: list) -> dict:\n",
        "\n",
        "    try:\n",
        "        response = client.chat.completions.create(\n",
        "            # Using a more powerful model for better function calling accuracy\n",
        "            model=\"llama-3.3-70b-versatile\", # Changed to a supported model\n",
        "            messages=[\n",
        "                {\"role\": \"system\", \"content\": \"You are a data extraction expert.\"},\n",
        "                {\"role\": \"user\", \"content\": chat_message}\n",
        "            ],\n",
        "            tools=tools,\n",
        "            tool_choice=\"auto\", # Let the model decide when to call the function\n",
        "            temperature=0.0\n",
        "        )\n",
        "\n",
        "        tool_calls = response.choices[0].message.tool_calls\n",
        "        if tool_calls:\n",
        "            # The model decided to call our function\n",
        "            function_args = json.loads(tool_calls[0].function.arguments)\n",
        "            return function_args\n",
        "        else:\n",
        "            return {\"message\": \"Model did not find information to extract.\"}\n",
        "\n",
        "    except Exception as e:\n",
        "        return {\"error\": f\"An API call failed: {e}\"}"
      ],
      "metadata": {
        "id": "pA97sI6brJJi"
      },
      "execution_count": 17,
      "outputs": []
    },
    {
      "cell_type": "code",
      "source": [
        "#@title Demonstration: Parsing Sample Chats\n",
        "\n",
        "sample_chats = [\n",
        "    # Sample 1: All information provided clearly\n",
        "    \"Hi, my name is John Doe. Please sign me up. My email is john.d@example.com and you can reach me at 555-123-4567. I live in New York and I am 32 years old.\",\n",
        "\n",
        "    # Sample 2: Missing some information (phone, age)\n",
        "    \"Hello, I'm Jane Smith and my email is jane.smith@email.net. I'm based in London.\",\n",
        "\n",
        "    # Sample 3: Information is conversational and non-sequential\n",
        "    \"I'm 25 and I need to update my details. My phone is 555-987-6543. Oh, and my name is Alex Ray. My new address is in Tokyo. My email is a.ray@web.com.\"\n",
        "]\n",
        "\n",
        "for i, chat in enumerate(sample_chats):\n",
        "    print(f\"--- Processing Sample Chat #{i+1} ---\")\n",
        "    print(f\"User Message: \\\"{chat}\\\"\")\n",
        "\n",
        "    extracted_data = extract_user_details(chat, user_details_tool)\n",
        "\n",
        "    # Pretty-print the validated JSON output\n",
        "    print(\"✅ Extracted Information:\")\n",
        "    print(json.dumps(extracted_data, indent=2))\n",
        "    print(\"-\" * 35 + \"\\n\")"
      ],
      "metadata": {
        "colab": {
          "base_uri": "https://localhost:8080/"
        },
        "id": "88cp1YoPrJKZ",
        "outputId": "ab691f70-f424-4caa-d474-9fd9f04ee055"
      },
      "execution_count": 18,
      "outputs": [
        {
          "output_type": "stream",
          "name": "stdout",
          "text": [
            "--- Processing Sample Chat #1 ---\n",
            "User Message: \"Hi, my name is John Doe. Please sign me up. My email is john.d@example.com and you can reach me at 555-123-4567. I live in New York and I am 32 years old.\"\n",
            "✅ Extracted Information:\n",
            "{\n",
            "  \"age\": 32,\n",
            "  \"email\": \"john.d@example.com\",\n",
            "  \"location\": \"New York\",\n",
            "  \"name\": \"John Doe\",\n",
            "  \"phone\": \"555-123-4567\"\n",
            "}\n",
            "-----------------------------------\n",
            "\n",
            "--- Processing Sample Chat #2 ---\n",
            "User Message: \"Hello, I'm Jane Smith and my email is jane.smith@email.net. I'm based in London.\"\n",
            "✅ Extracted Information:\n",
            "{\n",
            "  \"email\": \"jane.smith@email.net\",\n",
            "  \"location\": \"London\",\n",
            "  \"name\": \"Jane Smith\"\n",
            "}\n",
            "-----------------------------------\n",
            "\n",
            "--- Processing Sample Chat #3 ---\n",
            "User Message: \"I'm 25 and I need to update my details. My phone is 555-987-6543. Oh, and my name is Alex Ray. My new address is in Tokyo. My email is a.ray@web.com.\"\n",
            "✅ Extracted Information:\n",
            "{\n",
            "  \"age\": 25,\n",
            "  \"email\": \"a.ray@web.com\",\n",
            "  \"location\": \"Tokyo\",\n",
            "  \"name\": \"Alex Ray\",\n",
            "  \"phone\": \"555-987-6543\"\n",
            "}\n",
            "-----------------------------------\n",
            "\n"
          ]
        }
      ]
    }
  ]
}